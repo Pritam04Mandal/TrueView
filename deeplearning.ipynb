{
 "cells": [
  {
   "cell_type": "code",
   "execution_count": 1,
   "metadata": {},
   "outputs": [
    {
     "name": "stderr",
     "output_type": "stream",
     "text": [
      "C:\\Users\\Pritam Mandal\\AppData\\Local\\Temp\\ipykernel_11348\\1685627282.py:1: DeprecationWarning: \n",
      "Pyarrow will become a required dependency of pandas in the next major release of pandas (pandas 3.0),\n",
      "(to allow more performant data types, such as the Arrow string type, and better interoperability with other libraries)\n",
      "but was not found to be installed on your system.\n",
      "If this would cause problems for you,\n",
      "please provide us feedback at https://github.com/pandas-dev/pandas/issues/54466\n",
      "        \n",
      "  import pandas as pd\n"
     ]
    },
    {
     "name": "stdout",
     "output_type": "stream",
     "text": [
      "WARNING:tensorflow:From c:\\Users\\Pritam Mandal\\Documents\\GitHub\\TrueView\\venv\\Lib\\site-packages\\keras\\src\\losses.py:2976: The name tf.losses.sparse_softmax_cross_entropy is deprecated. Please use tf.compat.v1.losses.sparse_softmax_cross_entropy instead.\n",
      "\n"
     ]
    }
   ],
   "source": [
    "import pandas as pd\n",
    "import tensorflow as tf\n",
    "from sklearn.model_selection import train_test_split\n",
    "from sklearn.preprocessing import LabelEncoder\n",
    "from tensorflow.keras.models import Sequential\n",
    "from tensorflow.keras.layers import Dense, Embedding, Flatten, Input, Concatenate\n",
    "import string"
   ]
  },
  {
   "cell_type": "code",
   "execution_count": 2,
   "metadata": {},
   "outputs": [],
   "source": [
    "filepath = \"review_sentiments_dataset.csv\"\n",
    "df = pd.read_csv(filepath)\n",
    "df = df.drop(['category'], axis=1)\n",
    "df['processed_text'] = df['text_'].apply(lambda x: x.lower())\n",
    "df['review_length'] = df['text_'].apply(lambda x: len(x))\n",
    "df['punctuation_count'] = df['text_'].apply(lambda x: sum(1 for char in x if char in string.punctuation))"
   ]
  },
  {
   "cell_type": "code",
   "execution_count": 3,
   "metadata": {},
   "outputs": [],
   "source": [
    "X_text = df['processed_text'].values\n",
    "X_params = df[['neg','neu','pos','compound','review_length', 'punctuation_count']].values\n",
    "y = df['label'].values"
   ]
  },
  {
   "cell_type": "code",
   "execution_count": 4,
   "metadata": {},
   "outputs": [],
   "source": [
    "label_encoder = LabelEncoder()\n",
    "y = label_encoder.fit_transform(y)"
   ]
  },
  {
   "cell_type": "code",
   "execution_count": 5,
   "metadata": {},
   "outputs": [],
   "source": [
    "X_train_text, X_test_text, X_train_params, X_test_params, y_train, y_test = train_test_split(X_text,X_params, y, test_size=0.2, random_state=42)"
   ]
  },
  {
   "cell_type": "code",
   "execution_count": 6,
   "metadata": {},
   "outputs": [],
   "source": [
    "tokenizer = tf.keras.preprocessing.text.Tokenizer()\n",
    "tokenizer.fit_on_texts(X_train_text)\n",
    "X_train_text_seq = tokenizer.texts_to_sequences(X_train_text)\n",
    "X_test_text_seq = tokenizer.texts_to_sequences(X_test_text)\n",
    "X_train_text_pad = tf.keras.preprocessing.sequence.pad_sequences(X_train_text_seq)\n",
    "X_test_text_pad = tf.keras.preprocessing.sequence.pad_sequences(X_test_text_seq, maxlen=X_train_text_pad.shape[1])"
   ]
  },
  {
   "cell_type": "code",
   "execution_count": 7,
   "metadata": {},
   "outputs": [],
   "source": [
    "import json\n",
    "tokenizer_config = tokenizer.get_config()\n",
    "with open('tokenizer_config.json', 'w') as json_file:\n",
    "    json.dump(tokenizer_config, json_file)"
   ]
  },
  {
   "cell_type": "code",
   "execution_count": 8,
   "metadata": {},
   "outputs": [
    {
     "name": "stdout",
     "output_type": "stream",
     "text": [
      "WARNING:tensorflow:From c:\\Users\\Pritam Mandal\\Documents\\GitHub\\TrueView\\venv\\Lib\\site-packages\\keras\\src\\backend.py:1398: The name tf.executing_eagerly_outside_functions is deprecated. Please use tf.compat.v1.executing_eagerly_outside_functions instead.\n",
      "\n"
     ]
    }
   ],
   "source": [
    "text_input = Input(shape=(X_train_text_pad.shape[1],))\n",
    "embedding_layer = Embedding(input_dim=len(tokenizer.word_index) + 1, output_dim=100)(text_input)\n",
    "flattened_text = Flatten()(embedding_layer)\n",
    "params_input = Input(shape=(X_train_params.shape[1],))\n",
    "concatenated = Concatenate()([flattened_text, params_input])\n",
    "dense_layer = Dense(64, activation='relu')(concatenated)\n",
    "output_layer = Dense(1, activation='sigmoid')(dense_layer)"
   ]
  },
  {
   "cell_type": "code",
   "execution_count": 9,
   "metadata": {},
   "outputs": [],
   "source": [
    "model = tf.keras.Model(inputs=[text_input, params_input], outputs=output_layer)"
   ]
  },
  {
   "cell_type": "code",
   "execution_count": 10,
   "metadata": {},
   "outputs": [
    {
     "name": "stdout",
     "output_type": "stream",
     "text": [
      "WARNING:tensorflow:From c:\\Users\\Pritam Mandal\\Documents\\GitHub\\TrueView\\venv\\Lib\\site-packages\\keras\\src\\optimizers\\__init__.py:309: The name tf.train.Optimizer is deprecated. Please use tf.compat.v1.train.Optimizer instead.\n",
      "\n"
     ]
    }
   ],
   "source": [
    "model.compile(optimizer='adam', loss='binary_crossentropy', metrics=['accuracy'])"
   ]
  },
  {
   "cell_type": "code",
   "execution_count": 11,
   "metadata": {},
   "outputs": [
    {
     "name": "stdout",
     "output_type": "stream",
     "text": [
      "Epoch 1/5\n",
      "WARNING:tensorflow:From c:\\Users\\Pritam Mandal\\Documents\\GitHub\\TrueView\\venv\\Lib\\site-packages\\keras\\src\\utils\\tf_utils.py:492: The name tf.ragged.RaggedTensorValue is deprecated. Please use tf.compat.v1.ragged.RaggedTensorValue instead.\n",
      "\n",
      "WARNING:tensorflow:From c:\\Users\\Pritam Mandal\\Documents\\GitHub\\TrueView\\venv\\Lib\\site-packages\\keras\\src\\engine\\base_layer_utils.py:384: The name tf.executing_eagerly_outside_functions is deprecated. Please use tf.compat.v1.executing_eagerly_outside_functions instead.\n",
      "\n",
      "809/809 [==============================] - 90s 110ms/step - loss: 0.2840 - accuracy: 0.8688 - val_loss: 0.1813 - val_accuracy: 0.9287\n",
      "Epoch 2/5\n",
      "809/809 [==============================] - 89s 110ms/step - loss: 0.1041 - accuracy: 0.9614 - val_loss: 0.1768 - val_accuracy: 0.9340\n",
      "Epoch 3/5\n",
      "809/809 [==============================] - 89s 110ms/step - loss: 0.0460 - accuracy: 0.9846 - val_loss: 0.2047 - val_accuracy: 0.9314\n",
      "Epoch 4/5\n",
      "809/809 [==============================] - 89s 110ms/step - loss: 0.0157 - accuracy: 0.9952 - val_loss: 0.2462 - val_accuracy: 0.9337\n",
      "Epoch 5/5\n",
      "809/809 [==============================] - 89s 110ms/step - loss: 0.0085 - accuracy: 0.9978 - val_loss: 0.3258 - val_accuracy: 0.9218\n"
     ]
    },
    {
     "data": {
      "text/plain": [
       "<keras.src.callbacks.History at 0x18c9a1e0f50>"
      ]
     },
     "execution_count": 11,
     "metadata": {},
     "output_type": "execute_result"
    }
   ],
   "source": [
    "model.fit([X_train_text_pad, X_train_params], y_train, epochs=5, batch_size=32, validation_split=0.2)"
   ]
  },
  {
   "cell_type": "code",
   "execution_count": 12,
   "metadata": {},
   "outputs": [],
   "source": [
    "model = tf.keras.models.load_model('multi_input_fake_reviews_model.h5')"
   ]
  },
  {
   "cell_type": "code",
   "execution_count": 13,
   "metadata": {},
   "outputs": [
    {
     "name": "stdout",
     "output_type": "stream",
     "text": [
      "[[    0     0     0 ...    57     8   136]\n",
      " [    0     0     0 ...   150    11    27]\n",
      " [    0     0     0 ...     1   154    24]\n",
      " ...\n",
      " [    0     0     0 ...   282     6   982]\n",
      " [    0     0     0 ...    19    33 28822]\n",
      " [    0     0     0 ...  1048     2   210]]\n",
      "[[1.000e-02 5.690e-01 4.200e-01 9.989e-01 9.360e+02 2.000e+01]\n",
      " [0.000e+00 7.610e-01 2.390e-01 9.670e-01 3.700e+02 9.000e+00]\n",
      " [0.000e+00 8.030e-01 1.970e-01 7.960e-01 1.810e+02 5.000e+00]\n",
      " ...\n",
      " [0.000e+00 7.340e-01 2.660e-01 7.003e-01 8.500e+01 2.000e+00]\n",
      " [5.800e-02 6.840e-01 2.580e-01 7.825e-01 1.200e+02 1.000e+00]\n",
      " [3.500e-02 8.340e-01 1.300e-01 8.876e-01 4.980e+02 1.000e+01]]\n"
     ]
    }
   ],
   "source": [
    "print(X_test_text_pad)\n",
    "print(X_test_params)"
   ]
  },
  {
   "cell_type": "code",
   "execution_count": 14,
   "metadata": {},
   "outputs": [
    {
     "name": "stdout",
     "output_type": "stream",
     "text": [
      "253/253 [==============================] - 2s 7ms/step - loss: 0.3213 - accuracy: 0.9207\n",
      "Test Accuracy: 0.9207369685173035\n"
     ]
    }
   ],
   "source": [
    "loss, accuracy = model.evaluate([X_test_text_pad, X_test_params], y_test)\n",
    "print(\"Test Accuracy:\", accuracy)"
   ]
  },
  {
   "cell_type": "code",
   "execution_count": 15,
   "metadata": {},
   "outputs": [
    {
     "name": "stderr",
     "output_type": "stream",
     "text": [
      "c:\\Users\\Pritam Mandal\\Documents\\GitHub\\TrueView\\venv\\Lib\\site-packages\\keras\\src\\engine\\training.py:3103: UserWarning: You are saving your model as an HDF5 file via `model.save()`. This file format is considered legacy. We recommend using instead the native Keras format, e.g. `model.save('my_model.keras')`.\n",
      "  saving_api.save_model(\n"
     ]
    }
   ],
   "source": [
    "# Save the model to a file\n",
    "model.save('multi_input_fake_reviews_model.h5')"
   ]
  },
  {
   "cell_type": "code",
   "execution_count": 16,
   "metadata": {},
   "outputs": [
    {
     "name": "stdout",
     "output_type": "stream",
     "text": [
      "Model: \"model_1\"\n",
      "__________________________________________________________________________________________________\n",
      " Layer (type)                Output Shape                 Param #   Connected to                  \n",
      "==================================================================================================\n",
      " input_3 (InputLayer)        [(None, 533)]                0         []                            \n",
      "                                                                                                  \n",
      " embedding_1 (Embedding)     (None, 533, 100)             3990700   ['input_3[0][0]']             \n",
      "                                                                                                  \n",
      " flatten_1 (Flatten)         (None, 53300)                0         ['embedding_1[0][0]']         \n",
      "                                                                                                  \n",
      " input_4 (InputLayer)        [(None, 6)]                  0         []                            \n",
      "                                                                                                  \n",
      " concatenate_1 (Concatenate  (None, 53306)                0         ['flatten_1[0][0]',           \n",
      " )                                                                   'input_4[0][0]']             \n",
      "                                                                                                  \n",
      " dense_2 (Dense)             (None, 64)                   3411648   ['concatenate_1[0][0]']       \n",
      "                                                                                                  \n",
      " dense_3 (Dense)             (None, 1)                    65        ['dense_2[0][0]']             \n",
      "                                                                                                  \n",
      "==================================================================================================\n",
      "Total params: 7402413 (28.24 MB)\n",
      "Trainable params: 7402413 (28.24 MB)\n",
      "Non-trainable params: 0 (0.00 Byte)\n",
      "__________________________________________________________________________________________________\n"
     ]
    }
   ],
   "source": [
    "model.summary()"
   ]
  }
 ],
 "metadata": {
  "kernelspec": {
   "display_name": "myvenv",
   "language": "python",
   "name": "python3"
  },
  "language_info": {
   "codemirror_mode": {
    "name": "ipython",
    "version": 3
   },
   "file_extension": ".py",
   "mimetype": "text/x-python",
   "name": "python",
   "nbconvert_exporter": "python",
   "pygments_lexer": "ipython3",
   "version": "3.11.6"
  }
 },
 "nbformat": 4,
 "nbformat_minor": 2
}
