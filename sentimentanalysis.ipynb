{
 "cells": [
  {
   "cell_type": "code",
   "execution_count": 1,
   "metadata": {},
   "outputs": [],
   "source": [
    "import pandas as pd\n",
    "import numpy as np\n",
    "import matplotlib.pyplot as plt\n",
    "import seaborn as sns\n",
    "\n",
    "plt.style.use('ggplot')\n",
    "\n",
    "import nltk"
   ]
  },
  {
   "cell_type": "code",
   "execution_count": 2,
   "metadata": {},
   "outputs": [],
   "source": [
    "# nltk.download('punkt')\n",
    "# nltk.download('averaged_perceptron_tagger')\n",
    "# nltk.download('maxent_ne_chunker')\n",
    "# nltk.download('words')\n",
    "# nltk.download('vader_lexicon')"
   ]
  },
  {
   "cell_type": "code",
   "execution_count": 3,
   "metadata": {},
   "outputs": [
    {
     "data": {
      "text/html": [
       "<div>\n",
       "<style scoped>\n",
       "    .dataframe tbody tr th:only-of-type {\n",
       "        vertical-align: middle;\n",
       "    }\n",
       "\n",
       "    .dataframe tbody tr th {\n",
       "        vertical-align: top;\n",
       "    }\n",
       "\n",
       "    .dataframe thead th {\n",
       "        text-align: right;\n",
       "    }\n",
       "</style>\n",
       "<table border=\"1\" class=\"dataframe\">\n",
       "  <thead>\n",
       "    <tr style=\"text-align: right;\">\n",
       "      <th></th>\n",
       "      <th>reviewer_name</th>\n",
       "      <th>category</th>\n",
       "      <th>rating</th>\n",
       "      <th>label</th>\n",
       "      <th>text_</th>\n",
       "    </tr>\n",
       "  </thead>\n",
       "  <tbody>\n",
       "    <tr>\n",
       "      <th>0</th>\n",
       "      <td>Uthkarsh Vora</td>\n",
       "      <td>Home_and_Kitchen_5</td>\n",
       "      <td>5</td>\n",
       "      <td>CG</td>\n",
       "      <td>Love this!  Well made, sturdy, and very comfor...</td>\n",
       "    </tr>\n",
       "    <tr>\n",
       "      <th>1</th>\n",
       "      <td>Chirag Dubey</td>\n",
       "      <td>Home_and_Kitchen_5</td>\n",
       "      <td>5</td>\n",
       "      <td>CG</td>\n",
       "      <td>love it, a great upgrade from the original.  I...</td>\n",
       "    </tr>\n",
       "    <tr>\n",
       "      <th>2</th>\n",
       "      <td>Advik Barad</td>\n",
       "      <td>Home_and_Kitchen_5</td>\n",
       "      <td>5</td>\n",
       "      <td>CG</td>\n",
       "      <td>This pillow saved my back. I love the look and...</td>\n",
       "    </tr>\n",
       "    <tr>\n",
       "      <th>3</th>\n",
       "      <td>Ira Chada</td>\n",
       "      <td>Home_and_Kitchen_5</td>\n",
       "      <td>1</td>\n",
       "      <td>CG</td>\n",
       "      <td>Missing information on how to use it, but it i...</td>\n",
       "    </tr>\n",
       "    <tr>\n",
       "      <th>4</th>\n",
       "      <td>Tara Boase</td>\n",
       "      <td>Home_and_Kitchen_5</td>\n",
       "      <td>5</td>\n",
       "      <td>CG</td>\n",
       "      <td>Very nice set. Good quality. We have had the s...</td>\n",
       "    </tr>\n",
       "  </tbody>\n",
       "</table>\n",
       "</div>"
      ],
      "text/plain": [
       "   reviewer_name            category  rating label   \n",
       "0  Uthkarsh Vora  Home_and_Kitchen_5       5    CG  \\\n",
       "1   Chirag Dubey  Home_and_Kitchen_5       5    CG   \n",
       "2    Advik Barad  Home_and_Kitchen_5       5    CG   \n",
       "3      Ira Chada  Home_and_Kitchen_5       1    CG   \n",
       "4     Tara Boase  Home_and_Kitchen_5       5    CG   \n",
       "\n",
       "                                               text_  \n",
       "0  Love this!  Well made, sturdy, and very comfor...  \n",
       "1  love it, a great upgrade from the original.  I...  \n",
       "2  This pillow saved my back. I love the look and...  \n",
       "3  Missing information on how to use it, but it i...  \n",
       "4  Very nice set. Good quality. We have had the s...  "
      ]
     },
     "execution_count": 3,
     "metadata": {},
     "output_type": "execute_result"
    }
   ],
   "source": [
    "# Read the dataset\n",
    "filePath = './fake reviews dataset udated.csv'\n",
    "df = pd.read_csv(filePath)\n",
    "df.head()"
   ]
  },
  {
   "cell_type": "code",
   "execution_count": 4,
   "metadata": {},
   "outputs": [
    {
     "data": {
      "text/plain": [
       "(40432, 5)"
      ]
     },
     "execution_count": 4,
     "metadata": {},
     "output_type": "execute_result"
    }
   ],
   "source": [
    "df.shape"
   ]
  },
  {
   "cell_type": "markdown",
   "metadata": {},
   "source": [
    "##Quick EDA"
   ]
  },
  {
   "cell_type": "code",
   "execution_count": 5,
   "metadata": {},
   "outputs": [
    {
     "data": {
      "text/plain": [
       "<Axes: title={'center': 'Count of reviews by rating'}, xlabel='rating'>"
      ]
     },
     "execution_count": 5,
     "metadata": {},
     "output_type": "execute_result"
    },
    {
     "data": {
      "image/png": "[encoded data removed]",
      "text/plain": [
       "<Figure size 1000x500 with 1 Axes>"
      ]
     },
     "metadata": {},
     "output_type": "display_data"
    }
   ],
   "source": [
    "df['rating'].value_counts().sort_index().plot(kind='bar', title='Count of reviews by rating', figsize=(10,5))"
   ]
  },
  {
   "cell_type": "markdown",
   "metadata": {},
   "source": [
    "##Basic NLTK"
   ]
  },
  {
   "cell_type": "code",
   "execution_count": 6,
   "metadata": {},
   "outputs": [
    {
     "name": "stdout",
     "output_type": "stream",
     "text": [
      "<class 'str'>\n"
     ]
    }
   ],
   "source": [
    "example=df['text_'][100]\n",
    "print(type(example))"
   ]
  },
  {
   "cell_type": "code",
   "execution_count": 7,
   "metadata": {},
   "outputs": [
    {
     "data": {
      "text/plain": [
       "['Very',\n",
       " 'Soft',\n",
       " '!',\n",
       " 'Definitely',\n",
       " 'better',\n",
       " 'quality',\n",
       " 'than',\n",
       " 'I',\n",
       " 'was',\n",
       " 'expecting']"
      ]
     },
     "execution_count": 7,
     "metadata": {},
     "output_type": "execute_result"
    }
   ],
   "source": [
    "tokens=nltk.word_tokenize(example)\n",
    "tokens[:10]"
   ]
  },
  {
   "cell_type": "code",
   "execution_count": 8,
   "metadata": {},
   "outputs": [
    {
     "data": {
      "text/plain": [
       "[('Very', 'RB'),\n",
       " ('Soft', 'JJ'),\n",
       " ('!', '.'),\n",
       " ('Definitely', 'RB'),\n",
       " ('better', 'RBR'),\n",
       " ('quality', 'NN'),\n",
       " ('than', 'IN'),\n",
       " ('I', 'PRP'),\n",
       " ('was', 'VBD'),\n",
       " ('expecting', 'VBG')]"
      ]
     },
     "execution_count": 8,
     "metadata": {},
     "output_type": "execute_result"
    }
   ],
   "source": [
    "tagged=nltk.pos_tag(tokens)\n",
    "tagged[:10]"
   ]
  },
  {
   "cell_type": "code",
   "execution_count": 9,
   "metadata": {},
   "outputs": [
    {
     "name": "stdout",
     "output_type": "stream",
     "text": [
      "(S\n",
      "  Very/RB\n",
      "  Soft/JJ\n",
      "  !/.\n",
      "  Definitely/RB\n",
      "  better/RBR\n",
      "  quality/NN\n",
      "  than/IN\n",
      "  I/PRP\n",
      "  was/VBD\n",
      "  expecting/VBG\n",
      "  ./.)\n"
     ]
    }
   ],
   "source": [
    "entities=nltk.chunk.ne_chunk(tagged)\n",
    "entities.pprint() #For pretty print"
   ]
  },
  {
   "cell_type": "markdown",
   "metadata": {},
   "source": [
    "# Step 1. VADER Seniment Scoring¶\n",
    "We will use NLTK's SentimentIntensityAnalyzer to get the neg/neu/pos scores of the text.\n",
    "\n",
    "This uses a \"bag of words\" approach:\n",
    "\n",
    "Stop words are removed\n",
    "\n",
    "each word is scored and combined to a total score."
   ]
  },
  {
   "cell_type": "code",
   "execution_count": 10,
   "metadata": {},
   "outputs": [],
   "source": [
    "from nltk.sentiment import SentimentIntensityAnalyzer\n",
    "from tqdm.notebook import tqdm\n",
    "\n",
    "sia=SentimentIntensityAnalyzer()"
   ]
  },
  {
   "cell_type": "code",
   "execution_count": 11,
   "metadata": {},
   "outputs": [
    {
     "name": "stdout",
     "output_type": "stream",
     "text": [
      "I am very glad.\n",
      " {'neg': 0.0, 'neu': 0.378, 'pos': 0.622, 'compound': 0.5095}\n",
      "\n",
      "I am hurt.\n",
      " {'neg': 0.773, 'neu': 0.227, 'pos': 0.0, 'compound': -0.5267}\n",
      "\n",
      " Very Soft ! Definitely better quality than I was expecting. \n",
      " {'neg': 0.0, 'neu': 0.483, 'pos': 0.517, 'compound': 0.7531}\n"
     ]
    }
   ],
   "source": [
    "print(\"I am very glad.\\n\", sia.polarity_scores(\"I am very glad.\"))\n",
    "print(\"\\nI am hurt.\\n\", sia.polarity_scores(\"I am hurt.\"))\n",
    "print('\\n',example,'\\n', sia.polarity_scores(example))"
   ]
  },
  {
   "cell_type": "code",
   "execution_count": null,
   "metadata": {},
   "outputs": [],
   "source": [
    "from nltk.sentiment import SentimentIntensityAnalyzer\n",
    "from tqdm.notebook import tqdm\n",
    "\n",
    "sia=SentimentIntensityAnalyzer()\n",
    "\n",
    "res={}\n",
    "\n",
    "for i,row in tqdm(df.iterrows(), total=len(df)):\n",
    "    text=row[\"text_\"]\n",
    "    res[text]=sia.polarity_scores(text)\n",
    "\n",
    "vaders=pd.DataFrame(res).T\n",
    "vaders=vaders.reset_index().rename(columns={'index':'text_'})\n",
    "\n",
    "vaders= vaders.merge(df, how='left')\n",
    "# We have sentiment score and metadata\n",
    "vaders.head(20)"
   ]
  },
  {
   "cell_type": "code",
   "execution_count": 13,
   "metadata": {},
   "outputs": [
    {
     "data": {
      "application/vnd.jupyter.widget-view+json": {
       "model_id": "d4744efe56354dac9639fc502929ce59",
       "version_major": 2,
       "version_minor": 0
      },
      "text/plain": [
       "  0%|          | 0/40432 [00:00<?, ?it/s]"
      ]
     },
     "metadata": {},
     "output_type": "display_data"
    }
   ],
   "source": [
    "#Run the polarity score on entire dataset\n",
    "res={}\n",
    "\n",
    "for i,row in tqdm(df.iterrows(), total=len(df)):\n",
    "    text=row[\"text_\"]\n",
    "    res[text]=sia.polarity_scores(text)"
   ]
  },
  {
   "cell_type": "code",
   "execution_count": 21,
   "metadata": {},
   "outputs": [
    {
     "data": {
      "text/html": [
       "<div>\n",
       "<style scoped>\n",
       "    .dataframe tbody tr th:only-of-type {\n",
       "        vertical-align: middle;\n",
       "    }\n",
       "\n",
       "    .dataframe tbody tr th {\n",
       "        vertical-align: top;\n",
       "    }\n",
       "\n",
       "    .dataframe thead th {\n",
       "        text-align: right;\n",
       "    }\n",
       "</style>\n",
       "<table border=\"1\" class=\"dataframe\">\n",
       "  <thead>\n",
       "    <tr style=\"text-align: right;\">\n",
       "      <th></th>\n",
       "      <th>text_</th>\n",
       "      <th>neg</th>\n",
       "      <th>neu</th>\n",
       "      <th>pos</th>\n",
       "      <th>compound</th>\n",
       "      <th>reviewer_name</th>\n",
       "      <th>category</th>\n",
       "      <th>rating</th>\n",
       "      <th>label</th>\n",
       "    </tr>\n",
       "  </thead>\n",
       "  <tbody>\n",
       "    <tr>\n",
       "      <th>0</th>\n",
       "      <td>Love this!  Well made, sturdy, and very comfor...</td>\n",
       "      <td>0.000</td>\n",
       "      <td>0.248</td>\n",
       "      <td>0.752</td>\n",
       "      <td>0.9593</td>\n",
       "      <td>Uthkarsh Vora</td>\n",
       "      <td>Home_and_Kitchen_5</td>\n",
       "      <td>5</td>\n",
       "      <td>CG</td>\n",
       "    </tr>\n",
       "    <tr>\n",
       "      <th>1</th>\n",
       "      <td>love it, a great upgrade from the original.  I...</td>\n",
       "      <td>0.000</td>\n",
       "      <td>0.509</td>\n",
       "      <td>0.491</td>\n",
       "      <td>0.8910</td>\n",
       "      <td>Chirag Dubey</td>\n",
       "      <td>Home_and_Kitchen_5</td>\n",
       "      <td>5</td>\n",
       "      <td>CG</td>\n",
       "    </tr>\n",
       "    <tr>\n",
       "      <th>2</th>\n",
       "      <td>This pillow saved my back. I love the look and...</td>\n",
       "      <td>0.000</td>\n",
       "      <td>0.611</td>\n",
       "      <td>0.389</td>\n",
       "      <td>0.7906</td>\n",
       "      <td>Advik Barad</td>\n",
       "      <td>Home_and_Kitchen_5</td>\n",
       "      <td>5</td>\n",
       "      <td>CG</td>\n",
       "    </tr>\n",
       "    <tr>\n",
       "      <th>3</th>\n",
       "      <td>Missing information on how to use it, but it i...</td>\n",
       "      <td>0.078</td>\n",
       "      <td>0.633</td>\n",
       "      <td>0.289</td>\n",
       "      <td>0.7463</td>\n",
       "      <td>Ira Chada</td>\n",
       "      <td>Home_and_Kitchen_5</td>\n",
       "      <td>1</td>\n",
       "      <td>CG</td>\n",
       "    </tr>\n",
       "    <tr>\n",
       "      <th>4</th>\n",
       "      <td>Very nice set. Good quality. We have had the s...</td>\n",
       "      <td>0.000</td>\n",
       "      <td>0.719</td>\n",
       "      <td>0.281</td>\n",
       "      <td>0.7397</td>\n",
       "      <td>Tara Boase</td>\n",
       "      <td>Home_and_Kitchen_5</td>\n",
       "      <td>5</td>\n",
       "      <td>CG</td>\n",
       "    </tr>\n",
       "    <tr>\n",
       "      <th>5</th>\n",
       "      <td>I WANTED DIFFERENT FLAVORS BUT THEY ARE NOT.</td>\n",
       "      <td>0.000</td>\n",
       "      <td>1.000</td>\n",
       "      <td>0.000</td>\n",
       "      <td>0.0000</td>\n",
       "      <td>Dhanush Dasgupta</td>\n",
       "      <td>Home_and_Kitchen_5</td>\n",
       "      <td>3</td>\n",
       "      <td>CG</td>\n",
       "    </tr>\n",
       "    <tr>\n",
       "      <th>6</th>\n",
       "      <td>They are the perfect touch for me and the only...</td>\n",
       "      <td>0.000</td>\n",
       "      <td>0.701</td>\n",
       "      <td>0.299</td>\n",
       "      <td>0.7506</td>\n",
       "      <td>Yakshit Bahl</td>\n",
       "      <td>Home_and_Kitchen_5</td>\n",
       "      <td>5</td>\n",
       "      <td>CG</td>\n",
       "    </tr>\n",
       "    <tr>\n",
       "      <th>7</th>\n",
       "      <td>These done fit well and look great.  I love th...</td>\n",
       "      <td>0.000</td>\n",
       "      <td>0.482</td>\n",
       "      <td>0.518</td>\n",
       "      <td>0.9169</td>\n",
       "      <td>Sahil Deep</td>\n",
       "      <td>Home_and_Kitchen_5</td>\n",
       "      <td>3</td>\n",
       "      <td>CG</td>\n",
       "    </tr>\n",
       "    <tr>\n",
       "      <th>8</th>\n",
       "      <td>Great big numbers &amp; easy to read, the only thi...</td>\n",
       "      <td>0.095</td>\n",
       "      <td>0.588</td>\n",
       "      <td>0.317</td>\n",
       "      <td>0.7087</td>\n",
       "      <td>Ehsaan Virk</td>\n",
       "      <td>Home_and_Kitchen_5</td>\n",
       "      <td>5</td>\n",
       "      <td>CG</td>\n",
       "    </tr>\n",
       "    <tr>\n",
       "      <th>9</th>\n",
       "      <td>My son loves this comforter and it is very wel...</td>\n",
       "      <td>0.000</td>\n",
       "      <td>0.559</td>\n",
       "      <td>0.441</td>\n",
       "      <td>0.8580</td>\n",
       "      <td>Kabir Chander</td>\n",
       "      <td>Home_and_Kitchen_5</td>\n",
       "      <td>5</td>\n",
       "      <td>CG</td>\n",
       "    </tr>\n",
       "    <tr>\n",
       "      <th>10</th>\n",
       "      <td>As advertised. 5th one I've had. The only prob...</td>\n",
       "      <td>0.172</td>\n",
       "      <td>0.828</td>\n",
       "      <td>0.000</td>\n",
       "      <td>-0.4019</td>\n",
       "      <td>Jivika Vaidya</td>\n",
       "      <td>Home_and_Kitchen_5</td>\n",
       "      <td>5</td>\n",
       "      <td>CG</td>\n",
       "    </tr>\n",
       "    <tr>\n",
       "      <th>11</th>\n",
       "      <td>Very handy for one of my kids and the tools ar...</td>\n",
       "      <td>0.000</td>\n",
       "      <td>1.000</td>\n",
       "      <td>0.000</td>\n",
       "      <td>0.0000</td>\n",
       "      <td>Vihaan Bora</td>\n",
       "      <td>Home_and_Kitchen_5</td>\n",
       "      <td>5</td>\n",
       "      <td>CG</td>\n",
       "    </tr>\n",
       "    <tr>\n",
       "      <th>12</th>\n",
       "      <td>Did someone say, \"Oriental for $60\"?  It is a ...</td>\n",
       "      <td>0.000</td>\n",
       "      <td>0.728</td>\n",
       "      <td>0.272</td>\n",
       "      <td>0.6249</td>\n",
       "      <td>Neelofar Chad</td>\n",
       "      <td>Home_and_Kitchen_5</td>\n",
       "      <td>5</td>\n",
       "      <td>CG</td>\n",
       "    </tr>\n",
       "    <tr>\n",
       "      <th>13</th>\n",
       "      <td>These are so flimsy! They are not the quality ...</td>\n",
       "      <td>0.000</td>\n",
       "      <td>1.000</td>\n",
       "      <td>0.000</td>\n",
       "      <td>0.0000</td>\n",
       "      <td>Zain Barad</td>\n",
       "      <td>Home_and_Kitchen_5</td>\n",
       "      <td>1</td>\n",
       "      <td>CG</td>\n",
       "    </tr>\n",
       "    <tr>\n",
       "      <th>14</th>\n",
       "      <td>Makes may tea with out stirring. The only prob...</td>\n",
       "      <td>0.227</td>\n",
       "      <td>0.773</td>\n",
       "      <td>0.000</td>\n",
       "      <td>-0.5256</td>\n",
       "      <td>Sahil Chand</td>\n",
       "      <td>Home_and_Kitchen_5</td>\n",
       "      <td>5</td>\n",
       "      <td>CG</td>\n",
       "    </tr>\n",
       "    <tr>\n",
       "      <th>15</th>\n",
       "      <td>Absolutely adorable! And excellent price. We h...</td>\n",
       "      <td>0.000</td>\n",
       "      <td>0.659</td>\n",
       "      <td>0.341</td>\n",
       "      <td>0.8293</td>\n",
       "      <td>Jayan Sridhar</td>\n",
       "      <td>Home_and_Kitchen_5</td>\n",
       "      <td>5</td>\n",
       "      <td>CG</td>\n",
       "    </tr>\n",
       "    <tr>\n",
       "      <th>16</th>\n",
       "      <td>Love this!  Perfect size for an entire family!...</td>\n",
       "      <td>0.000</td>\n",
       "      <td>0.381</td>\n",
       "      <td>0.619</td>\n",
       "      <td>0.9078</td>\n",
       "      <td>Aaina Kaur</td>\n",
       "      <td>Home_and_Kitchen_5</td>\n",
       "      <td>5</td>\n",
       "      <td>CG</td>\n",
       "    </tr>\n",
       "    <tr>\n",
       "      <th>17</th>\n",
       "      <td>These look beautiful and so nice. The only pro...</td>\n",
       "      <td>0.119</td>\n",
       "      <td>0.573</td>\n",
       "      <td>0.308</td>\n",
       "      <td>0.6478</td>\n",
       "      <td>Keya Sant</td>\n",
       "      <td>Home_and_Kitchen_5</td>\n",
       "      <td>5</td>\n",
       "      <td>CG</td>\n",
       "    </tr>\n",
       "    <tr>\n",
       "      <th>18</th>\n",
       "      <td>Exactly what you would expect. I love the look...</td>\n",
       "      <td>0.000</td>\n",
       "      <td>0.741</td>\n",
       "      <td>0.259</td>\n",
       "      <td>0.6369</td>\n",
       "      <td>Ivana Krishnan</td>\n",
       "      <td>Home_and_Kitchen_5</td>\n",
       "      <td>5</td>\n",
       "      <td>CG</td>\n",
       "    </tr>\n",
       "    <tr>\n",
       "      <th>19</th>\n",
       "      <td>10 Stars, I would highly recommend this item. ...</td>\n",
       "      <td>0.000</td>\n",
       "      <td>0.563</td>\n",
       "      <td>0.437</td>\n",
       "      <td>0.7902</td>\n",
       "      <td>Mishti Ranganathan</td>\n",
       "      <td>Home_and_Kitchen_5</td>\n",
       "      <td>5</td>\n",
       "      <td>CG</td>\n",
       "    </tr>\n",
       "  </tbody>\n",
       "</table>\n",
       "</div>"
      ],
      "text/plain": [
       "                                                text_    neg    neu    pos   \n",
       "0   Love this!  Well made, sturdy, and very comfor...  0.000  0.248  0.752  \\\n",
       "1   love it, a great upgrade from the original.  I...  0.000  0.509  0.491   \n",
       "2   This pillow saved my back. I love the look and...  0.000  0.611  0.389   \n",
       "3   Missing information on how to use it, but it i...  0.078  0.633  0.289   \n",
       "4   Very nice set. Good quality. We have had the s...  0.000  0.719  0.281   \n",
       "5        I WANTED DIFFERENT FLAVORS BUT THEY ARE NOT.  0.000  1.000  0.000   \n",
       "6   They are the perfect touch for me and the only...  0.000  0.701  0.299   \n",
       "7   These done fit well and look great.  I love th...  0.000  0.482  0.518   \n",
       "8   Great big numbers & easy to read, the only thi...  0.095  0.588  0.317   \n",
       "9   My son loves this comforter and it is very wel...  0.000  0.559  0.441   \n",
       "10  As advertised. 5th one I've had. The only prob...  0.172  0.828  0.000   \n",
       "11  Very handy for one of my kids and the tools ar...  0.000  1.000  0.000   \n",
       "12  Did someone say, \"Oriental for $60\"?  It is a ...  0.000  0.728  0.272   \n",
       "13  These are so flimsy! They are not the quality ...  0.000  1.000  0.000   \n",
       "14  Makes may tea with out stirring. The only prob...  0.227  0.773  0.000   \n",
       "15  Absolutely adorable! And excellent price. We h...  0.000  0.659  0.341   \n",
       "16  Love this!  Perfect size for an entire family!...  0.000  0.381  0.619   \n",
       "17  These look beautiful and so nice. The only pro...  0.119  0.573  0.308   \n",
       "18  Exactly what you would expect. I love the look...  0.000  0.741  0.259   \n",
       "19  10 Stars, I would highly recommend this item. ...  0.000  0.563  0.437   \n",
       "\n",
       "    compound       reviewer_name            category  rating label  \n",
       "0     0.9593       Uthkarsh Vora  Home_and_Kitchen_5       5    CG  \n",
       "1     0.8910        Chirag Dubey  Home_and_Kitchen_5       5    CG  \n",
       "2     0.7906         Advik Barad  Home_and_Kitchen_5       5    CG  \n",
       "3     0.7463           Ira Chada  Home_and_Kitchen_5       1    CG  \n",
       "4     0.7397          Tara Boase  Home_and_Kitchen_5       5    CG  \n",
       "5     0.0000    Dhanush Dasgupta  Home_and_Kitchen_5       3    CG  \n",
       "6     0.7506        Yakshit Bahl  Home_and_Kitchen_5       5    CG  \n",
       "7     0.9169          Sahil Deep  Home_and_Kitchen_5       3    CG  \n",
       "8     0.7087         Ehsaan Virk  Home_and_Kitchen_5       5    CG  \n",
       "9     0.8580       Kabir Chander  Home_and_Kitchen_5       5    CG  \n",
       "10   -0.4019       Jivika Vaidya  Home_and_Kitchen_5       5    CG  \n",
       "11    0.0000         Vihaan Bora  Home_and_Kitchen_5       5    CG  \n",
       "12    0.6249       Neelofar Chad  Home_and_Kitchen_5       5    CG  \n",
       "13    0.0000          Zain Barad  Home_and_Kitchen_5       1    CG  \n",
       "14   -0.5256         Sahil Chand  Home_and_Kitchen_5       5    CG  \n",
       "15    0.8293       Jayan Sridhar  Home_and_Kitchen_5       5    CG  \n",
       "16    0.9078          Aaina Kaur  Home_and_Kitchen_5       5    CG  \n",
       "17    0.6478           Keya Sant  Home_and_Kitchen_5       5    CG  \n",
       "18    0.6369      Ivana Krishnan  Home_and_Kitchen_5       5    CG  \n",
       "19    0.7902  Mishti Ranganathan  Home_and_Kitchen_5       5    CG  "
      ]
     },
     "execution_count": 21,
     "metadata": {},
     "output_type": "execute_result"
    }
   ],
   "source": [
    "vaders=pd.DataFrame(res).T\n",
    "vaders=vaders.reset_index().rename(columns={'index':'text_'})\n",
    "\n",
    "vaders= vaders.merge(df, how='left')\n",
    "# We have sentiment score and metadata\n",
    "vaders.head(20)"
   ]
  },
  {
   "cell_type": "code",
   "execution_count": 23,
   "metadata": {},
   "outputs": [],
   "source": [
    "vaders.to_csv('review_sentiments_dataset.csv', index=False)"
   ]
  },
  {
   "cell_type": "code",
   "execution_count": 19,
   "metadata": {},
   "outputs": [
    {
     "data": {
      "text/plain": [
       "<Axes: xlabel='rating', ylabel='compound'>"
      ]
     },
     "execution_count": 19,
     "metadata": {},
     "output_type": "execute_result"
    },
    {
     "data": {
      "image/png": "[encoded data removed]",
      "text/plain": [
       "<Figure size 640x480 with 1 Axes>"
      ]
     },
     "metadata": {},
     "output_type": "display_data"
    }
   ],
   "source": [
    "sns.barplot(data=vaders, x='rating', y='compound')"
   ]
  },
  {
   "cell_type": "code",
   "execution_count": 20,
   "metadata": {},
   "outputs": [
    {
     "data": {
      "image/png": "[encoded data removed]",
      "text/plain": [
       "<Figure size 1200x300 with 3 Axes>"
      ]
     },
     "metadata": {},
     "output_type": "display_data"
    }
   ],
   "source": [
    "fig, axs = plt.subplots(1, 3, figsize=(12, 3))\n",
    "sns.barplot(data=vaders, x='rating', y='pos', ax=axs[0])\n",
    "sns.barplot(data=vaders, x='rating', y='neu', ax=axs[1])\n",
    "sns.barplot(data=vaders, x='rating', y='neg', ax=axs[2])\n",
    "axs[0].set_title('Positive')\n",
    "axs[1].set_title('Neutral')\n",
    "axs[2].set_title('Negative')\n",
    "plt.tight_layout()\n",
    "plt.show()"
   ]
  }
 ],
 "metadata": {
  "kernelspec": {
   "display_name": "myenv",
   "language": "python",
   "name": "python3"
  },
  "language_info": {
   "codemirror_mode": {
    "name": "ipython",
    "version": 3
   },
   "file_extension": ".py",
   "mimetype": "text/x-python",
   "name": "python",
   "nbconvert_exporter": "python",
   "pygments_lexer": "ipython3",
   "version": "3.10.10"
  }
 },
 "nbformat": 4,
 "nbformat_minor": 2
}
